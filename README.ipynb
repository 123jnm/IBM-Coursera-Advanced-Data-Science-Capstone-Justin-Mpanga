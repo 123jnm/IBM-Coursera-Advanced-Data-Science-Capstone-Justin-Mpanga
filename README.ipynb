{
 "cells": [
  {
   "cell_type": "markdown",
   "metadata": {},
   "source": [
    "# **Capstone Project Title: Diabetes Prediction and Prevention**\n",
    "\n",
    "**Problem Statement:** \n",
    "\n",
    "The objective of this project is to develop a classification model that can predict whether a person is likely to have diabetes or not based on certain risk factors.\n",
    "\n",
    "**Dataset and source:** \n",
    "\n",
    "The dataset is from the CDC's 2021 Behavioral Risk Factor Surveillance System (BRFSS) surveys available on the [CDC](https://www.cdc.gov/brfss/annual_data/annual_2021.html '2021 BRFSS Survey Data and Documentation') website as a xpt file. It contains various health measurements of American adults from all 50 states and U.S territories obtained via landline and cellphone surveys. \n",
    "\n",
    "It's a large dateset with 303 columns and 438693. The project focuses on variables that increase the risk for diabetes per available [literature](https://www.ncbi.nlm.nih.gov/pmc/articles/PMC9536939/#B20 'Detecting High-Risk Factors and Early Diagnosis of Diabetes Using Machine Learning Methods'). \n",
    "Variables of interest include: Diabetes, BMI, smoking_status, physical activity levels, alcohol consumption, general health, physical health, mental health, sex, age, race, education, hypertension, high_cholesterol and income \n",
    "\n",
    "**Data Quality:**\n",
    "\n",
    "The CDC's BRFSS (Behavioral Risk Factor Surveillance System) is a survey conducted by the Centers for Disease Control and Prevention (CDC) in the United States. It collects data on various health-related behaviors, chronic conditions, and use of preventive services. Summarizing the entire BRFSS dataset would be a complex task due to its extensive nature and the wide range of variables it covers. However, I can provide you with a general overview of the BRFSS and its key findings. \n",
    "\n",
    "The BRFSS survey gathers information from a large sample of adults through telephone interviews, covering topics such as:\n",
    "\n",
    "1. Health Behaviors: The BRFSS collects data on behaviors that impact health, including smoking, physical activity, alcohol consumption, diet, and seatbelt use.\n",
    "\n",
    "2. Chronic Conditions: It includes questions on the prevalence of chronic health conditions, such as diabetes, hypertension, obesity, asthma, heart disease, and mental health disorders.\n",
    "\n",
    "3. Preventive Services: The BRFSS assesses the utilization of preventive services, such as cancer screenings (mammograms, colonoscopies), flu vaccinations, and routine check-ups.\n",
    "\n",
    "4. Demographics: The survey captures demographic information, including age, gender, race/ethnicity, education, income, and employment status.\n",
    "\n",
    "5. Access to Healthcare: It explores factors related to healthcare access, health insurance coverage, and barriers to obtaining necessary medical care.\n",
    "\n",
    "Through the analysis of BRFSS data, the CDC and researchers gain insights into the health status of the U.S. population, identify trends, and inform public health policies and interventions. The findings of the BRFSS are often published in reports and scientific articles.\n",
    "\n",
    "To access specific data summaries or explore the BRFSS datasets in more detail, you can visit the CDC's BRFSS website: [CDC](https://www.cdc.gov/brfss/annual_data/annual_2021.html  'Behavioral Risk Factor Surveillance System'). The website provides access to data sets, reports, and interactive tools for exploring and analyzing BRFSS data.\n"
   ]
  }
 ],
 "metadata": {
  "language_info": {
   "name": "python"
  },
  "orig_nbformat": 4
 },
 "nbformat": 4,
 "nbformat_minor": 2
}
