{
 "cells": [
  {
   "cell_type": "markdown",
   "metadata": {},
   "source": [
    "# **Part 2b**"
   ]
  },
  {
   "cell_type": "markdown",
   "metadata": {},
   "source": [
    "### 1. Data Loading and Creating label encoder for each column"
   ]
  },
  {
   "cell_type": "markdown",
   "metadata": {},
   "source": [
    "#### a. Loading"
   ]
  },
  {
   "cell_type": "code",
   "execution_count": 1,
   "metadata": {},
   "outputs": [
    {
     "name": "stderr",
     "output_type": "stream",
     "text": [
      "2023-10-04 21:03:01.693270: I tensorflow/core/platform/cpu_feature_guard.cc:182] This TensorFlow binary is optimized to use available CPU instructions in performance-critical operations.\n",
      "To enable the following instructions: AVX2 FMA, in other operations, rebuild TensorFlow with the appropriate compiler flags.\n"
     ]
    }
   ],
   "source": [
    "# import necessary libraries \n",
    "import warnings\n",
    "import pandas as pd\n",
    "import matplotlib.pyplot as plt\n",
    "import numpy as np\n",
    "from sklearn.model_selection import train_test_split\n",
    "from imblearn.over_sampling import SMOTE\n",
    "from sklearn.linear_model import LogisticRegression\n",
    "from sklearn.ensemble import RandomForestClassifier\n",
    "from sklearn.neural_network import MLPClassifier\n",
    "from sklearn.metrics import accuracy_score, roc_auc_score, recall_score, precision_score, confusion_matrix\n",
    "from sklearn.preprocessing import LabelEncoder\n",
    "from tensorflow.keras.models import Sequential\n",
    "from tensorflow.keras.layers import Dense\n",
    "from tensorflow.keras.optimizers import Adam\n",
    "import statsmodels.api as sm\n",
    "\n",
    "# Ignore all warnings\n",
    "warnings.filterwarnings(\"ignore\")"
   ]
  },
  {
   "cell_type": "code",
   "execution_count": 2,
   "metadata": {},
   "outputs": [],
   "source": [
    "# Load the dataset\n",
    "df = pd.read_csv('b_BRFSS_Transformed_class.csv')"
   ]
  },
  {
   "cell_type": "code",
   "execution_count": 3,
   "metadata": {},
   "outputs": [
    {
     "data": {
      "text/html": [
       "<div>\n",
       "<style scoped>\n",
       "    .dataframe tbody tr th:only-of-type {\n",
       "        vertical-align: middle;\n",
       "    }\n",
       "\n",
       "    .dataframe tbody tr th {\n",
       "        vertical-align: top;\n",
       "    }\n",
       "\n",
       "    .dataframe thead th {\n",
       "        text-align: right;\n",
       "    }\n",
       "</style>\n",
       "<table border=\"1\" class=\"dataframe\">\n",
       "  <thead>\n",
       "    <tr style=\"text-align: right;\">\n",
       "      <th></th>\n",
       "      <th>Age</th>\n",
       "      <th>Sex</th>\n",
       "      <th>Race</th>\n",
       "      <th>Education</th>\n",
       "      <th>Income</th>\n",
       "      <th>Smoking_status</th>\n",
       "      <th>Alcohol_consumption</th>\n",
       "      <th>BMI</th>\n",
       "      <th>General_health</th>\n",
       "      <th>Physical_health</th>\n",
       "      <th>Mental_health</th>\n",
       "      <th>Hypertension</th>\n",
       "      <th>High_cholesterol</th>\n",
       "      <th>Diabetes_status</th>\n",
       "    </tr>\n",
       "  </thead>\n",
       "  <tbody>\n",
       "    <tr>\n",
       "      <th>0</th>\n",
       "      <td>65 or older</td>\n",
       "      <td>Female</td>\n",
       "      <td>Other</td>\n",
       "      <td>High School or Less</td>\n",
       "      <td>&lt;$50000</td>\n",
       "      <td>No</td>\n",
       "      <td>No</td>\n",
       "      <td>Overweight</td>\n",
       "      <td>Excellent2VeryGood</td>\n",
       "      <td>No</td>\n",
       "      <td>No</td>\n",
       "      <td>Yes</td>\n",
       "      <td>No</td>\n",
       "      <td>Diabetes</td>\n",
       "    </tr>\n",
       "    <tr>\n",
       "      <th>1</th>\n",
       "      <td>45 - 64</td>\n",
       "      <td>Female</td>\n",
       "      <td>White</td>\n",
       "      <td>High School or Less</td>\n",
       "      <td>$50000 - $99999</td>\n",
       "      <td>No</td>\n",
       "      <td>Yes</td>\n",
       "      <td>Obese</td>\n",
       "      <td>Excellent2VeryGood</td>\n",
       "      <td>No</td>\n",
       "      <td>Yes</td>\n",
       "      <td>Yes</td>\n",
       "      <td>Yes</td>\n",
       "      <td>Diabetes</td>\n",
       "    </tr>\n",
       "    <tr>\n",
       "      <th>2</th>\n",
       "      <td>65 or older</td>\n",
       "      <td>Male</td>\n",
       "      <td>Other</td>\n",
       "      <td>High School or Less</td>\n",
       "      <td>&lt;$50000</td>\n",
       "      <td>No</td>\n",
       "      <td>No</td>\n",
       "      <td>Overweight</td>\n",
       "      <td>Good2Poor</td>\n",
       "      <td>Yes</td>\n",
       "      <td>No</td>\n",
       "      <td>No</td>\n",
       "      <td>Yes</td>\n",
       "      <td>Diabetes</td>\n",
       "    </tr>\n",
       "    <tr>\n",
       "      <th>3</th>\n",
       "      <td>65 or older</td>\n",
       "      <td>Male</td>\n",
       "      <td>White</td>\n",
       "      <td>Some College</td>\n",
       "      <td>&lt;$50000</td>\n",
       "      <td>No</td>\n",
       "      <td>No</td>\n",
       "      <td>Normal Weight</td>\n",
       "      <td>Good2Poor</td>\n",
       "      <td>No</td>\n",
       "      <td>No</td>\n",
       "      <td>No</td>\n",
       "      <td>No</td>\n",
       "      <td>No Diabetes</td>\n",
       "    </tr>\n",
       "    <tr>\n",
       "      <th>4</th>\n",
       "      <td>65 or older</td>\n",
       "      <td>Female</td>\n",
       "      <td>White</td>\n",
       "      <td>High School or Less</td>\n",
       "      <td>$50000 - $99999</td>\n",
       "      <td>No</td>\n",
       "      <td>Yes</td>\n",
       "      <td>Obese</td>\n",
       "      <td>Good2Poor</td>\n",
       "      <td>Yes</td>\n",
       "      <td>Yes</td>\n",
       "      <td>Yes</td>\n",
       "      <td>No</td>\n",
       "      <td>No Diabetes</td>\n",
       "    </tr>\n",
       "  </tbody>\n",
       "</table>\n",
       "</div>"
      ],
      "text/plain": [
       "           Age     Sex   Race            Education           Income  \\\n",
       "0  65 or older  Female  Other  High School or Less          <$50000   \n",
       "1      45 - 64  Female  White  High School or Less  $50000 - $99999   \n",
       "2  65 or older    Male  Other  High School or Less          <$50000   \n",
       "3  65 or older    Male  White         Some College          <$50000   \n",
       "4  65 or older  Female  White  High School or Less  $50000 - $99999   \n",
       "\n",
       "  Smoking_status Alcohol_consumption            BMI      General_health  \\\n",
       "0             No                  No     Overweight  Excellent2VeryGood   \n",
       "1             No                 Yes          Obese  Excellent2VeryGood   \n",
       "2             No                  No     Overweight           Good2Poor   \n",
       "3             No                  No  Normal Weight           Good2Poor   \n",
       "4             No                 Yes          Obese           Good2Poor   \n",
       "\n",
       "  Physical_health Mental_health Hypertension High_cholesterol Diabetes_status  \n",
       "0              No            No          Yes               No        Diabetes  \n",
       "1              No           Yes          Yes              Yes        Diabetes  \n",
       "2             Yes            No           No              Yes        Diabetes  \n",
       "3              No            No           No               No     No Diabetes  \n",
       "4             Yes           Yes          Yes               No     No Diabetes  "
      ]
     },
     "execution_count": 3,
     "metadata": {},
     "output_type": "execute_result"
    }
   ],
   "source": [
    "df.head()"
   ]
  },
  {
   "cell_type": "markdown",
   "metadata": {},
   "source": [
    "#### b. LabelEncoder"
   ]
  },
  {
   "cell_type": "code",
   "execution_count": 4,
   "metadata": {},
   "outputs": [],
   "source": [
    "# Create a LabelEncoder for each column with nominal values\n",
    "label_encoders = {}\n",
    "\n",
    "for column in df.columns:\n",
    "    if df[column].dtype == 'object':\n",
    "        le = LabelEncoder()\n",
    "        df[column] = le.fit_transform(df[column])\n",
    "        label_encoders[column] = le"
   ]
  },
  {
   "cell_type": "code",
   "execution_count": 5,
   "metadata": {},
   "outputs": [
    {
     "data": {
      "text/html": [
       "<div>\n",
       "<style scoped>\n",
       "    .dataframe tbody tr th:only-of-type {\n",
       "        vertical-align: middle;\n",
       "    }\n",
       "\n",
       "    .dataframe tbody tr th {\n",
       "        vertical-align: top;\n",
       "    }\n",
       "\n",
       "    .dataframe thead th {\n",
       "        text-align: right;\n",
       "    }\n",
       "</style>\n",
       "<table border=\"1\" class=\"dataframe\">\n",
       "  <thead>\n",
       "    <tr style=\"text-align: right;\">\n",
       "      <th></th>\n",
       "      <th>Age</th>\n",
       "      <th>Sex</th>\n",
       "      <th>Race</th>\n",
       "      <th>Education</th>\n",
       "      <th>Income</th>\n",
       "      <th>Smoking_status</th>\n",
       "      <th>Alcohol_consumption</th>\n",
       "      <th>BMI</th>\n",
       "      <th>General_health</th>\n",
       "      <th>Physical_health</th>\n",
       "      <th>Mental_health</th>\n",
       "      <th>Hypertension</th>\n",
       "      <th>High_cholesterol</th>\n",
       "      <th>Diabetes_status</th>\n",
       "    </tr>\n",
       "  </thead>\n",
       "  <tbody>\n",
       "    <tr>\n",
       "      <th>0</th>\n",
       "      <td>1</td>\n",
       "      <td>0</td>\n",
       "      <td>0</td>\n",
       "      <td>1</td>\n",
       "      <td>1</td>\n",
       "      <td>0</td>\n",
       "      <td>0</td>\n",
       "      <td>2</td>\n",
       "      <td>0</td>\n",
       "      <td>0</td>\n",
       "      <td>0</td>\n",
       "      <td>1</td>\n",
       "      <td>0</td>\n",
       "      <td>0</td>\n",
       "    </tr>\n",
       "    <tr>\n",
       "      <th>1</th>\n",
       "      <td>0</td>\n",
       "      <td>0</td>\n",
       "      <td>1</td>\n",
       "      <td>1</td>\n",
       "      <td>0</td>\n",
       "      <td>0</td>\n",
       "      <td>1</td>\n",
       "      <td>1</td>\n",
       "      <td>0</td>\n",
       "      <td>0</td>\n",
       "      <td>1</td>\n",
       "      <td>1</td>\n",
       "      <td>1</td>\n",
       "      <td>0</td>\n",
       "    </tr>\n",
       "    <tr>\n",
       "      <th>2</th>\n",
       "      <td>1</td>\n",
       "      <td>1</td>\n",
       "      <td>0</td>\n",
       "      <td>1</td>\n",
       "      <td>1</td>\n",
       "      <td>0</td>\n",
       "      <td>0</td>\n",
       "      <td>2</td>\n",
       "      <td>1</td>\n",
       "      <td>1</td>\n",
       "      <td>0</td>\n",
       "      <td>0</td>\n",
       "      <td>1</td>\n",
       "      <td>0</td>\n",
       "    </tr>\n",
       "    <tr>\n",
       "      <th>3</th>\n",
       "      <td>1</td>\n",
       "      <td>1</td>\n",
       "      <td>1</td>\n",
       "      <td>2</td>\n",
       "      <td>1</td>\n",
       "      <td>0</td>\n",
       "      <td>0</td>\n",
       "      <td>0</td>\n",
       "      <td>1</td>\n",
       "      <td>0</td>\n",
       "      <td>0</td>\n",
       "      <td>0</td>\n",
       "      <td>0</td>\n",
       "      <td>1</td>\n",
       "    </tr>\n",
       "    <tr>\n",
       "      <th>4</th>\n",
       "      <td>1</td>\n",
       "      <td>0</td>\n",
       "      <td>1</td>\n",
       "      <td>1</td>\n",
       "      <td>0</td>\n",
       "      <td>0</td>\n",
       "      <td>1</td>\n",
       "      <td>1</td>\n",
       "      <td>1</td>\n",
       "      <td>1</td>\n",
       "      <td>1</td>\n",
       "      <td>1</td>\n",
       "      <td>0</td>\n",
       "      <td>1</td>\n",
       "    </tr>\n",
       "  </tbody>\n",
       "</table>\n",
       "</div>"
      ],
      "text/plain": [
       "   Age  Sex  Race  Education  Income  Smoking_status  Alcohol_consumption  \\\n",
       "0    1    0     0          1       1               0                    0   \n",
       "1    0    0     1          1       0               0                    1   \n",
       "2    1    1     0          1       1               0                    0   \n",
       "3    1    1     1          2       1               0                    0   \n",
       "4    1    0     1          1       0               0                    1   \n",
       "\n",
       "   BMI  General_health  Physical_health  Mental_health  Hypertension  \\\n",
       "0    2               0                0              0             1   \n",
       "1    1               0                0              1             1   \n",
       "2    2               1                1              0             0   \n",
       "3    0               1                0              0             0   \n",
       "4    1               1                1              1             1   \n",
       "\n",
       "   High_cholesterol  Diabetes_status  \n",
       "0                 0                0  \n",
       "1                 1                0  \n",
       "2                 1                0  \n",
       "3                 0                1  \n",
       "4                 0                1  "
      ]
     },
     "execution_count": 5,
     "metadata": {},
     "output_type": "execute_result"
    }
   ],
   "source": [
    "df.head()"
   ]
  },
  {
   "cell_type": "markdown",
   "metadata": {},
   "source": [
    "### 2. Data Preprocessing:\n"
   ]
  },
  {
   "cell_type": "markdown",
   "metadata": {},
   "source": [
    "#### a. Separating the features and the target variable\n"
   ]
  },
  {
   "cell_type": "code",
   "execution_count": 6,
   "metadata": {},
   "outputs": [],
   "source": [
    "# Feature matrix X and target vector y\n",
    "X = df.drop(['Diabetes_status'], axis=1)\n",
    "y = df['Diabetes_status']\n"
   ]
  },
  {
   "cell_type": "markdown",
   "metadata": {},
   "source": [
    "#### b. Splitting the dataset"
   ]
  },
  {
   "cell_type": "code",
   "execution_count": 7,
   "metadata": {},
   "outputs": [
    {
     "name": "stdout",
     "output_type": "stream",
     "text": [
      "Train set shape: (202248, 13) (202248,)\n",
      "Test set shape: (50563, 13) (50563,)\n"
     ]
    }
   ],
   "source": [
    "# Split the data into train and test sets\n",
    "X_train, X_test, y_train, y_test = train_test_split(X, y, test_size=0.2, random_state=42)\n",
    "\n",
    "# Print the shapes of the resulting datasets\n",
    "print(\"Train set shape:\", X_train.shape, y_train.shape)\n",
    "print(\"Test set shape:\", X_test.shape, y_test.shape)\n"
   ]
  },
  {
   "cell_type": "markdown",
   "metadata": {},
   "source": [
    "#### c. Handling imbalanced data "
   ]
  },
  {
   "cell_type": "code",
   "execution_count": 8,
   "metadata": {},
   "outputs": [
    {
     "name": "stdout",
     "output_type": "stream",
     "text": [
      "Class distribution before SMOTE:\n",
      "Diabetes_status\n",
      "1    171868\n",
      "0     30380\n",
      "Name: count, dtype: int64\n",
      "Class distribution after SMOTE:\n",
      "Diabetes_status\n",
      "0    171868\n",
      "1    171868\n",
      "Name: count, dtype: int64\n"
     ]
    }
   ],
   "source": [
    "# Apply SMOTE to the training set\n",
    "smote = SMOTE(random_state=42)\n",
    "X_train_resampled, y_train_resampled = smote.fit_resample(X_train, y_train)\n",
    "\n",
    "# Print the class distribution before and after applying SMOTE\n",
    "print(\"Class distribution before SMOTE:\")\n",
    "print(y_train.value_counts())\n",
    "\n",
    "print(\"Class distribution after SMOTE:\")\n",
    "print(pd.Series(y_train_resampled).value_counts())\n"
   ]
  },
  {
   "cell_type": "markdown",
   "metadata": {},
   "source": [
    "#### d. Feature Importance: Random Forests"
   ]
  },
  {
   "cell_type": "code",
   "execution_count": 9,
   "metadata": {},
   "outputs": [
    {
     "data": {
      "image/png": "[encoded data removed]",
      "text/plain": [
       "<Figure size 1000x600 with 1 Axes>"
      ]
     },
     "metadata": {},
     "output_type": "display_data"
    }
   ],
   "source": [
    "\n",
    "# Create and fit the Random Forest classifier using the resampled training data\n",
    "model = RandomForestClassifier()\n",
    "model.fit(X_train_resampled, y_train_resampled)\n",
    "\n",
    "# Access feature importances\n",
    "importances = model.feature_importances_\n",
    "\n",
    "# Sort importances in descending order\n",
    "sorted_indices = importances.argsort()\n",
    "sorted_importances = importances[sorted_indices]\n",
    "sorted_features = X.columns[sorted_indices]\n",
    "\n",
    "# Create a vertically oriented bar plot\n",
    "plt.figure(figsize=(10, 6))\n",
    "plt.barh(range(len(sorted_importances)), sorted_importances)\n",
    "plt.yticks(range(len(sorted_importances)), sorted_features)\n",
    "plt.xlabel('Importance')\n",
    "plt.ylabel('Features')\n",
    "plt.title('Feature Importance: Updated Features')\n",
    "\n",
    "# Add values to the bars\n",
    "for i, v in enumerate(sorted_importances):\n",
    "    plt.text(v, i, format(v, '.4f'), color='black', va='center')\n",
    "\n",
    "plt.show()\n"
   ]
  },
  {
   "cell_type": "markdown",
   "metadata": {},
   "source": [
    "### 2. Model Training and Evaluation:\n",
    "\n",
    "\n",
    "Comparing classification algorithms, logistic regression, Random Forest and Sequencial Model. Training the model on the training data and evaluating its performance on the testing data using model:\n",
    "\n",
    "Logistic Regression:\n",
    "- Pros: Interpretable, computationally efficient, low risk of overfitting.\n",
    "- Cons: Limited flexibility, struggles with complex relationships, requires feature engineering.\n",
    "\n",
    "Random Forest:\n",
    "- Pros: Excellent predictive performance, handles high-dimensional data, robust to outliers, provides feature importance.\n",
    "- Cons: Less interpretable, computationally expensive, may overfit with noisy data, difficulty handling imbalanced data.\n",
    "\n",
    "Sequential Models:\n",
    "- Pros: Captures temporal dependencies, handles complex relationships, automatic feature learning, potential for high accuracy.\n",
    "- Cons: Computationally expensive, requires large amounts of data, difficult to interpret, risk of overfitting.\n",
    "\n",
    "The choice of evaluation metrics for diabetes prevention models is crucial to assess the model's performance and determine its effectiveness in achieving the desired goal. The following following metrics were used: \n",
    "\n",
    "- Accuracy: Measures overall correct predictions. It's useful for classifying individuals as at risk or not. However, it may be insufficient for imbalanced datasets.\n",
    "\n",
    "- ROC AUC: Assesses the model's ability to discriminate between positive and negative instances across probability thresholds. It evaluates the model's ranking and differentiation of at-risk individuals from others.\n",
    "\n",
    "- Recall: Measures the proportion of correctly identified positive instances. It captures the model's ability to minimize false negatives and identify individuals at risk for diabetes.\n",
    "\n",
    "- Precision: Measures the proportion of correctly predicted positive instances. It focuses on minimizing false positives, avoiding unnecessary interventions.\n",
    "- Specificity: Measures the proportion of correctly identified negative instances. It captures the model's ability to minimize false positives and identify individuals who are not at risk for diabetes.\n",
    "\n",
    "- Negative Predictive Value: Measures the proportion of correctly predicted negative instances among all instances predicted as negative. It focuses on minimizing false negatives and avoiding unnecessary interventions for individuals who are not at risk for diabetes.\n",
    "\n",
    "These metrics are commonly used in binary classification tasks, such as predicting the risk of diabetes. They provide different perspectives on the performance of a predictive model and help evaluate its effectiveness in identifying individuals at risk for the condition. It's important to consider these metrics together to have a comprehensive understanding of the model's strengths and weaknesses.\n",
    "\n"
   ]
  },
  {
   "cell_type": "markdown",
   "metadata": {},
   "source": [
    "#### a. Model Training\n"
   ]
  },
  {
   "cell_type": "code",
   "execution_count": 10,
   "metadata": {},
   "outputs": [],
   "source": [
    "# Fit a logistic regression model and make predictions\n",
    "lr = LogisticRegression()  # Initialize a logistic regression classifier\n",
    "lr.fit(X_train_resampled, y_train_resampled)  # Train the model using the scaled training data\n",
    "lr_predictions = lr.predict(X_test)  # Generate predictions on the test data"
   ]
  },
  {
   "cell_type": "code",
   "execution_count": 11,
   "metadata": {},
   "outputs": [],
   "source": [
    "# Random Forest Classifier\n",
    "rf = RandomForestClassifier()  # Initialize a random forest classifier\n",
    "rf.fit(X_train_resampled, y_train_resampled)  # Train the model using the scaled training data\n",
    "rf_predictions = rf.predict(X_test)  # Generate predictions on the test data"
   ]
  },
  {
   "cell_type": "code",
   "execution_count": 12,
   "metadata": {},
   "outputs": [
    {
     "name": "stdout",
     "output_type": "stream",
     "text": [
      "Epoch 1/10\n",
      "5371/5371 [==============================] - 11s 2ms/step - loss: 0.5274 - accuracy: 0.7380\n",
      "Epoch 2/10\n",
      "5371/5371 [==============================] - 9s 2ms/step - loss: 0.5194 - accuracy: 0.7439\n",
      "Epoch 3/10\n",
      "5371/5371 [==============================] - 10s 2ms/step - loss: 0.5173 - accuracy: 0.7448\n",
      "Epoch 4/10\n",
      "5371/5371 [==============================] - 9s 2ms/step - loss: 0.5154 - accuracy: 0.7469\n",
      "Epoch 5/10\n",
      "5371/5371 [==============================] - 9s 2ms/step - loss: 0.5138 - accuracy: 0.7477\n",
      "Epoch 6/10\n",
      "5371/5371 [==============================] - 9s 2ms/step - loss: 0.5123 - accuracy: 0.7492\n",
      "Epoch 7/10\n",
      "5371/5371 [==============================] - 10s 2ms/step - loss: 0.5109 - accuracy: 0.7495\n",
      "Epoch 8/10\n",
      "5371/5371 [==============================] - 9s 2ms/step - loss: 0.5095 - accuracy: 0.7504\n",
      "Epoch 9/10\n",
      "5371/5371 [==============================] - 9s 2ms/step - loss: 0.5082 - accuracy: 0.7515\n",
      "Epoch 10/10\n",
      "5371/5371 [==============================] - 9s 2ms/step - loss: 0.5069 - accuracy: 0.7522\n",
      "1581/1581 [==============================] - 2s 1ms/step\n"
     ]
    }
   ],
   "source": [
    "# Deep Learning Model\n",
    "model = Sequential()\n",
    "model.add(Dense(64, activation='relu', input_shape=(X_train_resampled.shape[1],)))\n",
    "model.add(Dense(64, activation='relu'))\n",
    "model.add(Dense(1, activation='sigmoid'))\n",
    "model.compile(loss='binary_crossentropy', optimizer='adam', metrics=['accuracy'])\n",
    "model.fit(X_train_resampled, y_train_resampled, epochs=10, batch_size=64)\n",
    "dl_predictions = model.predict(X_test)"
   ]
  },
  {
   "cell_type": "code",
   "execution_count": 13,
   "metadata": {},
   "outputs": [],
   "source": [
    "# Convert predictions to binary values\n",
    "dl_predictions = (dl_predictions > 0.5).astype(int)"
   ]
  },
  {
   "cell_type": "markdown",
   "metadata": {},
   "source": [
    "### 3. Model Evaluation"
   ]
  },
  {
   "cell_type": "markdown",
   "metadata": {},
   "source": [
    "#### a. Model Evaluation"
   ]
  },
  {
   "cell_type": "code",
   "execution_count": 14,
   "metadata": {},
   "outputs": [],
   "source": [
    "# For Logistic Regression model\n",
    "tn, fp, fn, tp = confusion_matrix(y_test, lr_predictions).ravel()\n",
    "specificity_lr = tn / (tn + fp)  # Specificity calculation\n",
    "\n",
    "# For Random Forest model\n",
    "tn, fp, fn, tp = confusion_matrix(y_test, rf_predictions).ravel()\n",
    "specificity_rf = tn / (tn + fp)  # Specificity calculation\n",
    "\n",
    "# For Deep Learning model\n",
    "tn, fp, fn, tp = confusion_matrix(y_test, dl_predictions).ravel()\n",
    "specificity_dl = tn / (tn + fp)  # Specificity calculation\n"
   ]
  },
  {
   "cell_type": "code",
   "execution_count": 15,
   "metadata": {},
   "outputs": [
    {
     "name": "stdout",
     "output_type": "stream",
     "text": [
      "Logistic Regression Metrics:\n",
      "Accuracy: 0.7135454779186362\n",
      "ROC AUC: 0.7226319783213428\n",
      "Recall: 0.7097223511932399\n",
      "Precision: 0.9391742442860653\n",
      "Specificity: 0.7355416054494457\n",
      "\n",
      "Random Forest Metrics:\n",
      "Accuracy: 0.7147321163696775\n",
      "ROC AUC: 0.705175836525658\n",
      "Recall: 0.7187529018478968\n",
      "Precision: 0.9305981364592726\n",
      "Specificity: 0.6915987712034193\n",
      "\n",
      "Deep Learning Model Metrics:\n",
      "Accuracy: 0.7071771848980479\n",
      "ROC AUC: 0.7344537570511145\n",
      "Recall: 0.6957006221561891\n",
      "Precision: 0.946377818480389\n",
      "Specificity: 0.7732068919460398\n"
     ]
    }
   ],
   "source": [
    "# Print model metrics values\n",
    "print(\"Logistic Regression Metrics:\")\n",
    "print(\"Accuracy:\", accuracy_score(y_test, lr_predictions))\n",
    "print(\"ROC AUC:\", roc_auc_score(y_test, lr_predictions))\n",
    "print(\"Recall:\", recall_score(y_test, lr_predictions))\n",
    "print(\"Precision:\", precision_score(y_test, lr_predictions))\n",
    "print(\"Specificity:\", specificity_lr)\n",
    "\n",
    "print(\"\\nRandom Forest Metrics:\")\n",
    "print(\"Accuracy:\", accuracy_score(y_test, rf_predictions))\n",
    "print(\"ROC AUC:\", roc_auc_score(y_test, rf_predictions))\n",
    "print(\"Recall:\", recall_score(y_test, rf_predictions))\n",
    "print(\"Precision:\", precision_score(y_test, rf_predictions))\n",
    "print(\"Specificity:\", specificity_rf)\n",
    "\n",
    "print(\"\\nDeep Learning Model Metrics:\")\n",
    "dl_predictions = dl_predictions.flatten()\n",
    "print(\"Accuracy:\", accuracy_score(y_test, dl_predictions))\n",
    "print(\"ROC AUC:\", roc_auc_score(y_test, dl_predictions))\n",
    "print(\"Recall:\", recall_score(y_test, dl_predictions))\n",
    "print(\"Precision:\", precision_score(y_test, dl_predictions))\n",
    "print(\"Specificity:\", specificity_dl)\n"
   ]
  },
  {
   "cell_type": "markdown",
   "metadata": {},
   "source": [
    "The logistic regression model now has an accuracy of 0.7135, a slightly improved ROC AUC of 0.7226, and a recall of 0.7097. The precision remains high at 0.9392, while the specificity is 0.7355.\n",
    "\n",
    "The random forest model has a similar accuracy of 0.7147, a slightly lower ROC AUC of 0.7052, and a recall of 0.7188. The precision is 0.9306, and the specificity is 0.6916.\n",
    "\n",
    "The deep learning model has an accuracy of 0.7072, an improved ROC AUC of 0.7345, and a recall of 0.6957. The precision is 0.9464, and the specificity is 0.7732.\n",
    "\n",
    "Comparing the models, the logistic regression model still has the highest precision and the deep learning model has the highest ROC AUC. The random forest model has comparable accuracy but lower precision and ROC AUC compared to the other models."
   ]
  },
  {
   "cell_type": "markdown",
   "metadata": {},
   "source": [
    "### 4. Model Comparison Plot"
   ]
  },
  {
   "cell_type": "code",
   "execution_count": 16,
   "metadata": {},
   "outputs": [
    {
     "data": {
      "image/png": "[encoded data removed]",
      "text/plain": [
       "<Figure size 640x480 with 1 Axes>"
      ]
     },
     "metadata": {},
     "output_type": "display_data"
    }
   ],
   "source": [
    "# Create dictionaries for model metrics\n",
    "lr_metrics = {\n",
    "    \"Accuracy\": accuracy_score(y_test, lr_predictions),\n",
    "    \"ROC AUC\": roc_auc_score(y_test, lr_predictions),\n",
    "    \"Recall\": recall_score(y_test, lr_predictions),\n",
    "    \"Precision\": precision_score(y_test, lr_predictions),\n",
    "    \"Specificity\": specificity_lr,\n",
    "}\n",
    "\n",
    "rf_metrics = {\n",
    "    \"Accuracy\": accuracy_score(y_test, rf_predictions),\n",
    "    \"ROC AUC\": roc_auc_score(y_test, rf_predictions),\n",
    "    \"Recall\": recall_score(y_test, rf_predictions),\n",
    "    \"Precision\": precision_score(y_test, rf_predictions),\n",
    "    \"Specificity\": specificity_rf,\n",
    "}\n",
    "\n",
    "dl_metrics = {\n",
    "    \"Accuracy\": accuracy_score(y_test, dl_predictions),\n",
    "    \"ROC AUC\": roc_auc_score(y_test, dl_predictions),\n",
    "    \"Recall\": recall_score(y_test, dl_predictions),\n",
    "    \"Precision\": precision_score(y_test, dl_predictions),\n",
    "    \"Specificity\": specificity_dl,\n",
    "}\n",
    "\n",
    "# Extract metric names and values\n",
    "metrics = list(lr_metrics.keys())\n",
    "lr_values = list(lr_metrics.values())\n",
    "rf_values = list(rf_metrics.values())\n",
    "dl_values = list(dl_metrics.values())\n",
    "\n",
    "# Set the width of the bars\n",
    "bar_width = 0.25\n",
    "index = np.arange(len(metrics))\n",
    "\n",
    "# Create bar plots\n",
    "fig, ax = plt.subplots()\n",
    "rects1 = ax.bar(index - bar_width, lr_values, bar_width, label='Logistic Regression')\n",
    "rects2 = ax.bar(index, rf_values, bar_width, label='Random Forest')\n",
    "rects3 = ax.bar(index + bar_width, dl_values, bar_width, label='Deep Learning')\n",
    "\n",
    "# Add labels, title, and legend\n",
    "ax.set_ylabel('Score')\n",
    "ax.set_xlabel('Metrics')\n",
    "ax.set_title('Model Evaluation Metrics: Updated Features')\n",
    "ax.set_xticks(index)\n",
    "ax.set_xticklabels(metrics, rotation=45, ha='right')\n",
    "\n",
    "# Adjust the layout to prevent labels from being cut off\n",
    "plt.tight_layout()\n",
    "\n",
    "# Move the legend outside the plot\n",
    "ax.legend(loc='center left', bbox_to_anchor=(1, 0.5))\n",
    "\n",
    "# Display the plot\n",
    "plt.show()"
   ]
  },
  {
   "cell_type": "markdown",
   "metadata": {},
   "source": [
    "### 5. Conclusion and Future Work\n",
    "\n",
    "In this comparative analysis of machine learning models for diabetes prediction, the Deep Learning model emerged as the top performer in terms of accuracay, ROC AUC, precision, and specificity. It demonstrated superior performance in accurately distinguishing individuals with and without diabetes. The Random Forest model showed high recall, making it suitable choice for identifying positive cases. The Logistic Regression model had notable accuracy, ROC AUC, precision, and specificity, making it a runner-up.\n",
    "\n",
    "These findings highlight the potential of machine learning models in diabetes prediction. However, it is important to consider the specific requirements of the use case and the limitations of the dataset. Further research and model refinement are necessary to enhance the accuracy and robustness of diabetes prediction models.\n",
    "\n",
    "Furthermore, potential areas for improvement and future work are identified, including collecting more data, exploring alternative algorithms, addressing class imbalance using other methods, feature engineering, hyperparameter tuning, and external validation. These areas provide avenues for enhancing the models' performance and developing more robust predictive models for identifying individuals at risk for diabetes."
   ]
  }
 ],
 "metadata": {
  "kernelspec": {
   "display_name": "Python 3",
   "language": "python",
   "name": "python3"
  },
  "language_info": {
   "codemirror_mode": {
    "name": "ipython",
    "version": 3
   },
   "file_extension": ".py",
   "mimetype": "text/x-python",
   "name": "python",
   "nbconvert_exporter": "python",
   "pygments_lexer": "ipython3",
   "version": "3.11.2"
  },
  "orig_nbformat": 4
 },
 "nbformat": 4,
 "nbformat_minor": 2
}
