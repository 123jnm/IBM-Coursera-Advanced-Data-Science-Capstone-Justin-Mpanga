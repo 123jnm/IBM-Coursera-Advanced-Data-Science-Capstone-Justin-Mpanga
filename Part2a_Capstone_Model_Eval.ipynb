{
 "cells": [
  {
   "cell_type": "markdown",
   "metadata": {},
   "source": [
    "# **Part 2a**"
   ]
  },
  {
   "cell_type": "markdown",
   "metadata": {},
   "source": [
    "### 1. Data Loading and Creating label encoder for each column"
   ]
  },
  {
   "cell_type": "markdown",
   "metadata": {},
   "source": [
    "#### a. Loading"
   ]
  },
  {
   "cell_type": "code",
   "execution_count": 1,
   "metadata": {},
   "outputs": [
    {
     "name": "stderr",
     "output_type": "stream",
     "text": [
      "2023-10-04 21:02:59.100663: I tensorflow/core/platform/cpu_feature_guard.cc:182] This TensorFlow binary is optimized to use available CPU instructions in performance-critical operations.\n",
      "To enable the following instructions: AVX2 FMA, in other operations, rebuild TensorFlow with the appropriate compiler flags.\n"
     ]
    }
   ],
   "source": [
    "# import necessary libraries \n",
    "import warnings\n",
    "import pandas as pd\n",
    "import matplotlib.pyplot as plt\n",
    "import numpy as np\n",
    "from sklearn.model_selection import train_test_split\n",
    "from imblearn.over_sampling import SMOTE\n",
    "from sklearn.linear_model import LogisticRegression\n",
    "from sklearn.ensemble import RandomForestClassifier\n",
    "from sklearn.neural_network import MLPClassifier\n",
    "from sklearn.metrics import accuracy_score, roc_auc_score, recall_score, precision_score, confusion_matrix\n",
    "from sklearn.preprocessing import LabelEncoder\n",
    "from tensorflow.keras.models import Sequential\n",
    "from tensorflow.keras.layers import Dense\n",
    "from tensorflow.keras.optimizers import Adam\n",
    "import statsmodels.api as sm\n",
    "\n",
    "# Ignore all warnings\n",
    "warnings.filterwarnings(\"ignore\")"
   ]
  },
  {
   "cell_type": "code",
   "execution_count": 2,
   "metadata": {},
   "outputs": [],
   "source": [
    "# Load the dataset\n",
    "df = pd.read_csv('a_BRFSS_original_classes.csv')"
   ]
  },
  {
   "cell_type": "code",
   "execution_count": 3,
   "metadata": {},
   "outputs": [
    {
     "data": {
      "text/html": [
       "<div>\n",
       "<style scoped>\n",
       "    .dataframe tbody tr th:only-of-type {\n",
       "        vertical-align: middle;\n",
       "    }\n",
       "\n",
       "    .dataframe tbody tr th {\n",
       "        vertical-align: top;\n",
       "    }\n",
       "\n",
       "    .dataframe thead th {\n",
       "        text-align: right;\n",
       "    }\n",
       "</style>\n",
       "<table border=\"1\" class=\"dataframe\">\n",
       "  <thead>\n",
       "    <tr style=\"text-align: right;\">\n",
       "      <th></th>\n",
       "      <th>Age</th>\n",
       "      <th>Sex</th>\n",
       "      <th>Race</th>\n",
       "      <th>Education</th>\n",
       "      <th>Income</th>\n",
       "      <th>Smoking_status</th>\n",
       "      <th>Alcohol_consumption</th>\n",
       "      <th>BMI</th>\n",
       "      <th>General_health</th>\n",
       "      <th>Physical_health</th>\n",
       "      <th>Mental_health</th>\n",
       "      <th>Hypertension</th>\n",
       "      <th>High_cholesterol</th>\n",
       "      <th>Diabetes_status</th>\n",
       "    </tr>\n",
       "  </thead>\n",
       "  <tbody>\n",
       "    <tr>\n",
       "      <th>0</th>\n",
       "      <td>65 or older</td>\n",
       "      <td>Female</td>\n",
       "      <td>White</td>\n",
       "      <td>High School Graduate</td>\n",
       "      <td>$25000 - $34999</td>\n",
       "      <td>No</td>\n",
       "      <td>No</td>\n",
       "      <td>Underweight</td>\n",
       "      <td>Poor</td>\n",
       "      <td>Yes</td>\n",
       "      <td>Yes</td>\n",
       "      <td>No</td>\n",
       "      <td>Yes</td>\n",
       "      <td>No Diabetes</td>\n",
       "    </tr>\n",
       "    <tr>\n",
       "      <th>1</th>\n",
       "      <td>65 or older</td>\n",
       "      <td>Female</td>\n",
       "      <td>Black</td>\n",
       "      <td>High School Graduate</td>\n",
       "      <td>$15000 - $24999</td>\n",
       "      <td>No</td>\n",
       "      <td>No</td>\n",
       "      <td>Overweight</td>\n",
       "      <td>Very Good</td>\n",
       "      <td>No</td>\n",
       "      <td>No</td>\n",
       "      <td>Yes</td>\n",
       "      <td>No</td>\n",
       "      <td>Diabetes</td>\n",
       "    </tr>\n",
       "    <tr>\n",
       "      <th>2</th>\n",
       "      <td>55 - 64</td>\n",
       "      <td>Female</td>\n",
       "      <td>White</td>\n",
       "      <td>High School Graduate</td>\n",
       "      <td>$50000 - $99999</td>\n",
       "      <td>No</td>\n",
       "      <td>Yes</td>\n",
       "      <td>Obese</td>\n",
       "      <td>Very Good</td>\n",
       "      <td>No</td>\n",
       "      <td>Yes</td>\n",
       "      <td>Yes</td>\n",
       "      <td>Yes</td>\n",
       "      <td>Diabetes</td>\n",
       "    </tr>\n",
       "    <tr>\n",
       "      <th>3</th>\n",
       "      <td>65 or older</td>\n",
       "      <td>Male</td>\n",
       "      <td>Other</td>\n",
       "      <td>&lt; High School</td>\n",
       "      <td>$15000 - $24999</td>\n",
       "      <td>No</td>\n",
       "      <td>No</td>\n",
       "      <td>Overweight</td>\n",
       "      <td>Poor</td>\n",
       "      <td>Yes</td>\n",
       "      <td>No</td>\n",
       "      <td>No</td>\n",
       "      <td>Yes</td>\n",
       "      <td>Diabetes</td>\n",
       "    </tr>\n",
       "    <tr>\n",
       "      <th>4</th>\n",
       "      <td>65 or older</td>\n",
       "      <td>Male</td>\n",
       "      <td>White</td>\n",
       "      <td>Some College</td>\n",
       "      <td>$35000 - $49999</td>\n",
       "      <td>No</td>\n",
       "      <td>No</td>\n",
       "      <td>Normal Weight</td>\n",
       "      <td>Good</td>\n",
       "      <td>No</td>\n",
       "      <td>No</td>\n",
       "      <td>No</td>\n",
       "      <td>No</td>\n",
       "      <td>No Diabetes</td>\n",
       "    </tr>\n",
       "  </tbody>\n",
       "</table>\n",
       "</div>"
      ],
      "text/plain": [
       "           Age     Sex   Race             Education           Income  \\\n",
       "0  65 or older  Female  White  High School Graduate  $25000 - $34999   \n",
       "1  65 or older  Female  Black  High School Graduate  $15000 - $24999   \n",
       "2      55 - 64  Female  White  High School Graduate  $50000 - $99999   \n",
       "3  65 or older    Male  Other         < High School  $15000 - $24999   \n",
       "4  65 or older    Male  White          Some College  $35000 - $49999   \n",
       "\n",
       "  Smoking_status Alcohol_consumption            BMI General_health  \\\n",
       "0             No                  No    Underweight           Poor   \n",
       "1             No                  No     Overweight      Very Good   \n",
       "2             No                 Yes          Obese      Very Good   \n",
       "3             No                  No     Overweight           Poor   \n",
       "4             No                  No  Normal Weight           Good   \n",
       "\n",
       "  Physical_health Mental_health Hypertension High_cholesterol Diabetes_status  \n",
       "0             Yes           Yes           No              Yes     No Diabetes  \n",
       "1              No            No          Yes               No        Diabetes  \n",
       "2              No           Yes          Yes              Yes        Diabetes  \n",
       "3             Yes            No           No              Yes        Diabetes  \n",
       "4              No            No           No               No     No Diabetes  "
      ]
     },
     "execution_count": 3,
     "metadata": {},
     "output_type": "execute_result"
    }
   ],
   "source": [
    "df.head()"
   ]
  },
  {
   "cell_type": "markdown",
   "metadata": {},
   "source": [
    "#### b. LabelEncoder"
   ]
  },
  {
   "cell_type": "code",
   "execution_count": 4,
   "metadata": {},
   "outputs": [],
   "source": [
    "# Create a LabelEncoder for each column with nominal values\n",
    "label_encoders = {}\n",
    "\n",
    "for column in df.columns:\n",
    "    if df[column].dtype == 'object':\n",
    "        le = LabelEncoder()\n",
    "        df[column] = le.fit_transform(df[column])\n",
    "        label_encoders[column] = le"
   ]
  },
  {
   "cell_type": "code",
   "execution_count": 5,
   "metadata": {},
   "outputs": [
    {
     "data": {
      "text/html": [
       "<div>\n",
       "<style scoped>\n",
       "    .dataframe tbody tr th:only-of-type {\n",
       "        vertical-align: middle;\n",
       "    }\n",
       "\n",
       "    .dataframe tbody tr th {\n",
       "        vertical-align: top;\n",
       "    }\n",
       "\n",
       "    .dataframe thead th {\n",
       "        text-align: right;\n",
       "    }\n",
       "</style>\n",
       "<table border=\"1\" class=\"dataframe\">\n",
       "  <thead>\n",
       "    <tr style=\"text-align: right;\">\n",
       "      <th></th>\n",
       "      <th>Age</th>\n",
       "      <th>Sex</th>\n",
       "      <th>Race</th>\n",
       "      <th>Education</th>\n",
       "      <th>Income</th>\n",
       "      <th>Smoking_status</th>\n",
       "      <th>Alcohol_consumption</th>\n",
       "      <th>BMI</th>\n",
       "      <th>General_health</th>\n",
       "      <th>Physical_health</th>\n",
       "      <th>Mental_health</th>\n",
       "      <th>Hypertension</th>\n",
       "      <th>High_cholesterol</th>\n",
       "      <th>Diabetes_status</th>\n",
       "    </tr>\n",
       "  </thead>\n",
       "  <tbody>\n",
       "    <tr>\n",
       "      <th>0</th>\n",
       "      <td>5</td>\n",
       "      <td>0</td>\n",
       "      <td>5</td>\n",
       "      <td>2</td>\n",
       "      <td>2</td>\n",
       "      <td>0</td>\n",
       "      <td>0</td>\n",
       "      <td>3</td>\n",
       "      <td>3</td>\n",
       "      <td>1</td>\n",
       "      <td>1</td>\n",
       "      <td>0</td>\n",
       "      <td>1</td>\n",
       "      <td>1</td>\n",
       "    </tr>\n",
       "    <tr>\n",
       "      <th>1</th>\n",
       "      <td>5</td>\n",
       "      <td>0</td>\n",
       "      <td>2</td>\n",
       "      <td>2</td>\n",
       "      <td>1</td>\n",
       "      <td>0</td>\n",
       "      <td>0</td>\n",
       "      <td>2</td>\n",
       "      <td>4</td>\n",
       "      <td>0</td>\n",
       "      <td>0</td>\n",
       "      <td>1</td>\n",
       "      <td>0</td>\n",
       "      <td>0</td>\n",
       "    </tr>\n",
       "    <tr>\n",
       "      <th>2</th>\n",
       "      <td>4</td>\n",
       "      <td>0</td>\n",
       "      <td>5</td>\n",
       "      <td>2</td>\n",
       "      <td>4</td>\n",
       "      <td>0</td>\n",
       "      <td>1</td>\n",
       "      <td>1</td>\n",
       "      <td>4</td>\n",
       "      <td>0</td>\n",
       "      <td>1</td>\n",
       "      <td>1</td>\n",
       "      <td>1</td>\n",
       "      <td>0</td>\n",
       "    </tr>\n",
       "    <tr>\n",
       "      <th>3</th>\n",
       "      <td>5</td>\n",
       "      <td>1</td>\n",
       "      <td>4</td>\n",
       "      <td>0</td>\n",
       "      <td>1</td>\n",
       "      <td>0</td>\n",
       "      <td>0</td>\n",
       "      <td>2</td>\n",
       "      <td>3</td>\n",
       "      <td>1</td>\n",
       "      <td>0</td>\n",
       "      <td>0</td>\n",
       "      <td>1</td>\n",
       "      <td>0</td>\n",
       "    </tr>\n",
       "    <tr>\n",
       "      <th>4</th>\n",
       "      <td>5</td>\n",
       "      <td>1</td>\n",
       "      <td>5</td>\n",
       "      <td>3</td>\n",
       "      <td>3</td>\n",
       "      <td>0</td>\n",
       "      <td>0</td>\n",
       "      <td>0</td>\n",
       "      <td>2</td>\n",
       "      <td>0</td>\n",
       "      <td>0</td>\n",
       "      <td>0</td>\n",
       "      <td>0</td>\n",
       "      <td>1</td>\n",
       "    </tr>\n",
       "  </tbody>\n",
       "</table>\n",
       "</div>"
      ],
      "text/plain": [
       "   Age  Sex  Race  Education  Income  Smoking_status  Alcohol_consumption  \\\n",
       "0    5    0     5          2       2               0                    0   \n",
       "1    5    0     2          2       1               0                    0   \n",
       "2    4    0     5          2       4               0                    1   \n",
       "3    5    1     4          0       1               0                    0   \n",
       "4    5    1     5          3       3               0                    0   \n",
       "\n",
       "   BMI  General_health  Physical_health  Mental_health  Hypertension  \\\n",
       "0    3               3                1              1             0   \n",
       "1    2               4                0              0             1   \n",
       "2    1               4                0              1             1   \n",
       "3    2               3                1              0             0   \n",
       "4    0               2                0              0             0   \n",
       "\n",
       "   High_cholesterol  Diabetes_status  \n",
       "0                 1                1  \n",
       "1                 0                0  \n",
       "2                 1                0  \n",
       "3                 1                0  \n",
       "4                 0                1  "
      ]
     },
     "execution_count": 5,
     "metadata": {},
     "output_type": "execute_result"
    }
   ],
   "source": [
    "df.head()"
   ]
  },
  {
   "cell_type": "markdown",
   "metadata": {},
   "source": [
    "### 2. Data Preprocessing:\n"
   ]
  },
  {
   "cell_type": "markdown",
   "metadata": {},
   "source": [
    "#### a. Separating the features and the target variable\n"
   ]
  },
  {
   "cell_type": "code",
   "execution_count": 6,
   "metadata": {},
   "outputs": [],
   "source": [
    "# Feature matrix X and target vector y\n",
    "X = df.drop(['Diabetes_status'], axis=1)\n",
    "y = df['Diabetes_status']\n"
   ]
  },
  {
   "cell_type": "markdown",
   "metadata": {},
   "source": [
    "#### b. Splitting the dataset"
   ]
  },
  {
   "cell_type": "code",
   "execution_count": 7,
   "metadata": {},
   "outputs": [
    {
     "name": "stdout",
     "output_type": "stream",
     "text": [
      "Train set shape: (204783, 13) (204783,)\n",
      "Test set shape: (51196, 13) (51196,)\n"
     ]
    }
   ],
   "source": [
    "# Split the data into train and test sets\n",
    "X_train, X_test, y_train, y_test = train_test_split(X, y, test_size=0.2, random_state=42)\n",
    "\n",
    "# Print the shapes of the resulting datasets\n",
    "print(\"Train set shape:\", X_train.shape, y_train.shape)\n",
    "print(\"Test set shape:\", X_test.shape, y_test.shape)\n"
   ]
  },
  {
   "cell_type": "markdown",
   "metadata": {},
   "source": [
    "#### c. Handling imbalanced data "
   ]
  },
  {
   "cell_type": "code",
   "execution_count": 8,
   "metadata": {},
   "outputs": [
    {
     "name": "stdout",
     "output_type": "stream",
     "text": [
      "Class distribution before SMOTE:\n",
      "Diabetes_status\n",
      "1    174366\n",
      "0     30417\n",
      "Name: count, dtype: int64\n",
      "Class distribution after SMOTE:\n",
      "Diabetes_status\n",
      "1    174366\n",
      "0    174366\n",
      "Name: count, dtype: int64\n"
     ]
    }
   ],
   "source": [
    "# Apply SMOTE to the training set\n",
    "smote = SMOTE(random_state=42)\n",
    "X_train_resampled, y_train_resampled = smote.fit_resample(X_train, y_train)\n",
    "\n",
    "# Print the class distribution before and after applying SMOTE\n",
    "print(\"Class distribution before SMOTE:\")\n",
    "print(y_train.value_counts())\n",
    "\n",
    "print(\"Class distribution after SMOTE:\")\n",
    "print(pd.Series(y_train_resampled).value_counts())\n"
   ]
  },
  {
   "cell_type": "markdown",
   "metadata": {},
   "source": [
    "#### d. Feature Importance: Random Forests"
   ]
  },
  {
   "cell_type": "code",
   "execution_count": 9,
   "metadata": {},
   "outputs": [
    {
     "data": {
      "image/png": "[encoded data removed]",
      "text/plain": [
       "<Figure size 1000x600 with 1 Axes>"
      ]
     },
     "metadata": {},
     "output_type": "display_data"
    }
   ],
   "source": [
    "\n",
    "# Create and fit the Random Forest classifier using the resampled training data\n",
    "model = RandomForestClassifier()\n",
    "model.fit(X_train_resampled, y_train_resampled)\n",
    "\n",
    "# Access feature importances\n",
    "importances = model.feature_importances_\n",
    "\n",
    "# Sort importances in descending order\n",
    "sorted_indices = importances.argsort()\n",
    "sorted_importances = importances[sorted_indices]\n",
    "sorted_features = X.columns[sorted_indices]\n",
    "\n",
    "# Create a vertically oriented bar plot\n",
    "plt.figure(figsize=(10, 6))\n",
    "plt.barh(range(len(sorted_importances)), sorted_importances)\n",
    "plt.yticks(range(len(sorted_importances)), sorted_features)\n",
    "plt.xlabel('Importance')\n",
    "plt.ylabel('Features')\n",
    "plt.title('Feature Importance: Initial Features')\n",
    "\n",
    "# Add values to the bars\n",
    "for i, v in enumerate(sorted_importances):\n",
    "    plt.text(v, i, format(v, '.4f'), color='black', va='center')\n",
    "\n",
    "plt.show()\n"
   ]
  },
  {
   "cell_type": "markdown",
   "metadata": {},
   "source": [
    "### 2. Model Training and Evaluation:\n",
    "\n",
    "\n",
    "Comparing classification algorithms, logistic regression, Random Forest and Sequencial Model. Training the model on the training data and evaluating its performance on the testing data using model:\n",
    "\n",
    "Logistic Regression:\n",
    "- Pros: Interpretable, computationally efficient, low risk of overfitting.\n",
    "- Cons: Limited flexibility, struggles with complex relationships, requires feature engineering.\n",
    "\n",
    "Random Forest:\n",
    "- Pros: Excellent predictive performance, handles high-dimensional data, robust to outliers, provides feature importance.\n",
    "- Cons: Less interpretable, computationally expensive, may overfit with noisy data, difficulty handling imbalanced data.\n",
    "\n",
    "Sequential Models:\n",
    "- Pros: Captures temporal dependencies, handles complex relationships, automatic feature learning, potential for high accuracy.\n",
    "- Cons: Computationally expensive, requires large amounts of data, difficult to interpret, risk of overfitting.\n",
    "\n",
    "The choice of evaluation metrics for diabetes prevention models is crucial to assess the model's performance and determine its effectiveness in achieving the desired goal. The following following metrics were used: \n",
    "\n",
    "- Accuracy: Measures overall correct predictions. It's useful for classifying individuals as at risk or not. However, it may be insufficient for imbalanced datasets.\n",
    "\n",
    "- ROC AUC: Assesses the model's ability to discriminate between positive and negative instances across probability thresholds. It evaluates the model's ranking and differentiation of at-risk individuals from others.\n",
    "\n",
    "- Recall: Measures the proportion of correctly identified positive instances. It captures the model's ability to minimize false negatives and identify individuals at risk for diabetes.\n",
    "\n",
    "- Precision: Measures the proportion of correctly predicted positive instances. It focuses on minimizing false positives, avoiding unnecessary interventions.\n",
    "- Specificity: Measures the proportion of correctly identified negative instances. It captures the model's ability to minimize false positives and identify individuals who are not at risk for diabetes.\n",
    "\n",
    "These metrics are commonly used in binary classification tasks, such as predicting the risk of diabetes. They provide different perspectives on the performance of a predictive model and help evaluate its effectiveness in identifying individuals at risk for the condition. It's important to consider these metrics together to have a comprehensive understanding of the model's strengths and weaknesses.\n",
    "\n"
   ]
  },
  {
   "cell_type": "markdown",
   "metadata": {},
   "source": [
    "#### a. Model Training\n"
   ]
  },
  {
   "cell_type": "code",
   "execution_count": 10,
   "metadata": {},
   "outputs": [],
   "source": [
    "# Fit a logistic regression model and make predictions\n",
    "lr = LogisticRegression()  # Initialize a logistic regression classifier\n",
    "lr.fit(X_train_resampled, y_train_resampled)  # Train the model using the scaled training data\n",
    "lr_predictions = lr.predict(X_test)  # Generate predictions on the test data"
   ]
  },
  {
   "cell_type": "code",
   "execution_count": 11,
   "metadata": {},
   "outputs": [],
   "source": [
    "# Random Forest Classifier\n",
    "rf = RandomForestClassifier()  # Initialize a random forest classifier\n",
    "rf.fit(X_train_resampled, y_train_resampled)  # Train the model using the scaled training data\n",
    "rf_predictions = rf.predict(X_test)  # Generate predictions on the test data"
   ]
  },
  {
   "cell_type": "code",
   "execution_count": 12,
   "metadata": {},
   "outputs": [
    {
     "name": "stdout",
     "output_type": "stream",
     "text": [
      "Epoch 1/10\n",
      "5449/5449 [==============================] - 11s 2ms/step - loss: 0.5245 - accuracy: 0.7387\n",
      "Epoch 2/10\n",
      "5449/5449 [==============================] - 10s 2ms/step - loss: 0.5145 - accuracy: 0.7455\n",
      "Epoch 3/10\n",
      "5449/5449 [==============================] - 10s 2ms/step - loss: 0.5116 - accuracy: 0.7474\n",
      "Epoch 4/10\n",
      "5449/5449 [==============================] - 9s 2ms/step - loss: 0.5093 - accuracy: 0.7485\n",
      "Epoch 5/10\n",
      "5449/5449 [==============================] - 9s 2ms/step - loss: 0.5072 - accuracy: 0.7497\n",
      "Epoch 6/10\n",
      "5449/5449 [==============================] - 10s 2ms/step - loss: 0.5056 - accuracy: 0.7505\n",
      "Epoch 7/10\n",
      "5449/5449 [==============================] - 10s 2ms/step - loss: 0.5037 - accuracy: 0.7520\n",
      "Epoch 8/10\n",
      "5449/5449 [==============================] - 9s 2ms/step - loss: 0.5023 - accuracy: 0.7528\n",
      "Epoch 9/10\n",
      "5449/5449 [==============================] - 7s 1ms/step - loss: 0.5007 - accuracy: 0.7536\n",
      "Epoch 10/10\n",
      "5449/5449 [==============================] - 6s 1ms/step - loss: 0.4996 - accuracy: 0.7547\n",
      "1600/1600 [==============================] - 2s 893us/step\n"
     ]
    }
   ],
   "source": [
    "# Deep Learning Model\n",
    "model = Sequential()\n",
    "model.add(Dense(64, activation='relu', input_shape=(X_train_resampled.shape[1],)))\n",
    "model.add(Dense(64, activation='relu'))\n",
    "model.add(Dense(1, activation='sigmoid'))\n",
    "model.compile(loss='binary_crossentropy', optimizer='adam', metrics=['accuracy'])\n",
    "model.fit(X_train_resampled, y_train_resampled, epochs=10, batch_size=64)\n",
    "dl_predictions = model.predict(X_test)"
   ]
  },
  {
   "cell_type": "code",
   "execution_count": 13,
   "metadata": {},
   "outputs": [],
   "source": [
    "# Convert predictions to binary values\n",
    "dl_predictions = (dl_predictions > 0.5).astype(int)"
   ]
  },
  {
   "cell_type": "markdown",
   "metadata": {},
   "source": [
    "### 3. Model Evaluation"
   ]
  },
  {
   "cell_type": "markdown",
   "metadata": {},
   "source": [
    "#### a. Model Evaluation"
   ]
  },
  {
   "cell_type": "code",
   "execution_count": 14,
   "metadata": {},
   "outputs": [],
   "source": [
    "# For Logistic Regression model\n",
    "tn, fp, fn, tp = confusion_matrix(y_test, lr_predictions).ravel()\n",
    "specificity_lr = tn / (tn + fp)  # Specificity calculation\n",
    "\n",
    "# For Random Forest model\n",
    "tn, fp, fn, tp = confusion_matrix(y_test, rf_predictions).ravel()\n",
    "specificity_rf = tn / (tn + fp)  # Specificity calculation\n",
    "\n",
    "# For Deep Learning model\n",
    "tn, fp, fn, tp = confusion_matrix(y_test, dl_predictions).ravel()\n",
    "specificity_dl = tn / (tn + fp)  # Specificity calculation"
   ]
  },
  {
   "cell_type": "code",
   "execution_count": 15,
   "metadata": {},
   "outputs": [
    {
     "name": "stdout",
     "output_type": "stream",
     "text": [
      "Logistic Regression Metrics:\n",
      "Accuracy: 0.6966169231971248\n",
      "ROC AUC: 0.7109418662977982\n",
      "Recall: 0.6905111835759886\n",
      "Precision: 0.9360291370937617\n",
      "Specificity: 0.7313725490196078\n",
      "\n",
      "Random Forest Metrics:\n",
      "Accuracy: 0.7442768966325494\n",
      "ROC AUC: 0.6612131773207147\n",
      "Recall: 0.7796812566022138\n",
      "Precision: 0.9065954606141522\n",
      "Specificity: 0.5427450980392157\n",
      "\n",
      "Deep Learning Model Metrics:\n",
      "Accuracy: 0.725115243378389\n",
      "ROC AUC: 0.736637908856955\n",
      "Recall: 0.7202039222890736\n",
      "Precision: 0.9431896785059096\n",
      "Specificity: 0.7530718954248365\n"
     ]
    }
   ],
   "source": [
    "# Print model metrics values\n",
    "print(\"Logistic Regression Metrics:\")\n",
    "print(\"Accuracy:\", accuracy_score(y_test, lr_predictions))\n",
    "print(\"ROC AUC:\", roc_auc_score(y_test, lr_predictions))\n",
    "print(\"Recall:\", recall_score(y_test, lr_predictions))\n",
    "print(\"Precision:\", precision_score(y_test, lr_predictions))\n",
    "print(\"Specificity:\", specificity_lr)\n",
    "\n",
    "print(\"\\nRandom Forest Metrics:\")\n",
    "print(\"Accuracy:\", accuracy_score(y_test, rf_predictions))\n",
    "print(\"ROC AUC:\", roc_auc_score(y_test, rf_predictions))\n",
    "print(\"Recall:\", recall_score(y_test, rf_predictions))\n",
    "print(\"Precision:\", precision_score(y_test, rf_predictions))\n",
    "print(\"Specificity:\", specificity_rf)\n",
    "\n",
    "print(\"\\nDeep Learning Model Metrics:\")\n",
    "dl_predictions = dl_predictions.flatten()\n",
    "print(\"Accuracy:\", accuracy_score(y_test, dl_predictions))\n",
    "print(\"ROC AUC:\", roc_auc_score(y_test, dl_predictions))\n",
    "print(\"Recall:\", recall_score(y_test, dl_predictions))\n",
    "print(\"Precision:\", precision_score(y_test, dl_predictions))\n",
    "print(\"Specificity:\", specificity_dl)\n"
   ]
  },
  {
   "cell_type": "markdown",
   "metadata": {},
   "source": [
    "These metrics provide an evaluation of the performance of each model. Logistic Regression achieved an accuracy of 0.6966, with a slightly higher ROC AUC of 0.7109. The model also had a recall of 0.6905 and high precision of 0.9360. The specificity was 0.7314.\n",
    "\n",
    "The Random Forest model performed better in terms of accuracy with a score of 0.7443. However, its ROC AUC was lower at 0.6612. It had a higher recall of 0.7797 and a slightly lower precision of 0.9066. The specificity was 0.5427.\n",
    "\n",
    "The Deep Learning Model had an accuracy of 0.7251 and a higher ROC AUC of 0.7366. It had a recall of 0.7202 and a precision of 0.9432, indicating good performance. The specificity was 0.7531.\n",
    "\n",
    "These results suggest that the logistic regression model had the highest precision and the deep learning model had the highest ROC AUC. The random forest model had the highest accuracy but lower precision and ROC AUC compared to the other models. "
   ]
  },
  {
   "cell_type": "markdown",
   "metadata": {},
   "source": [
    "### 4. Model Comparison Plot"
   ]
  },
  {
   "cell_type": "code",
   "execution_count": 16,
   "metadata": {},
   "outputs": [
    {
     "data": {
      "image/png": "[encoded data removed]",
      "text/plain": [
       "<Figure size 640x480 with 1 Axes>"
      ]
     },
     "metadata": {},
     "output_type": "display_data"
    }
   ],
   "source": [
    "# Create dictionaries for model metrics\n",
    "lr_metrics = {\n",
    "    \"Accuracy\": accuracy_score(y_test, lr_predictions),\n",
    "    \"ROC AUC\": roc_auc_score(y_test, lr_predictions),\n",
    "    \"Recall\": recall_score(y_test, lr_predictions),\n",
    "    \"Precision\": precision_score(y_test, lr_predictions),\n",
    "    \"Specificity\": specificity_lr,\n",
    "}\n",
    "\n",
    "rf_metrics = {\n",
    "    \"Accuracy\": accuracy_score(y_test, rf_predictions),\n",
    "    \"ROC AUC\": roc_auc_score(y_test, rf_predictions),\n",
    "    \"Recall\": recall_score(y_test, rf_predictions),\n",
    "    \"Precision\": precision_score(y_test, rf_predictions),\n",
    "    \"Specificity\": specificity_rf,\n",
    "}\n",
    "\n",
    "dl_metrics = {\n",
    "    \"Accuracy\": accuracy_score(y_test, dl_predictions),\n",
    "    \"ROC AUC\": roc_auc_score(y_test, dl_predictions),\n",
    "    \"Recall\": recall_score(y_test, dl_predictions),\n",
    "    \"Precision\": precision_score(y_test, dl_predictions),\n",
    "    \"Specificity\": specificity_dl,\n",
    "}\n",
    "\n",
    "# Extract metric names and values\n",
    "metrics = list(lr_metrics.keys())\n",
    "lr_values = list(lr_metrics.values())\n",
    "rf_values = list(rf_metrics.values())\n",
    "dl_values = list(dl_metrics.values())\n",
    "\n",
    "# Set the width of the bars\n",
    "bar_width = 0.25\n",
    "index = np.arange(len(metrics))\n",
    "\n",
    "# Create bar plots\n",
    "fig, ax = plt.subplots()\n",
    "rects1 = ax.bar(index - bar_width, lr_values, bar_width, label='Logistic Regression')\n",
    "rects2 = ax.bar(index, rf_values, bar_width, label='Random Forest')\n",
    "rects3 = ax.bar(index + bar_width, dl_values, bar_width, label='Deep Learning')\n",
    "\n",
    "# Add labels, title, and legend\n",
    "ax.set_ylabel('Score')\n",
    "ax.set_xlabel('Metrics')\n",
    "ax.set_title('Model Evaluation Metrics: Initial Features')\n",
    "ax.set_xticks(index)\n",
    "ax.set_xticklabels(metrics, rotation=45, ha='right')\n",
    "\n",
    "# Adjust the layout to prevent labels from being cut off\n",
    "plt.tight_layout()\n",
    "\n",
    "# Move the legend outside the plot\n",
    "ax.legend(loc='center left', bbox_to_anchor=(1, 0.5))\n",
    "\n",
    "# Display the plot\n",
    "plt.show()"
   ]
  },
  {
   "cell_type": "markdown",
   "metadata": {},
   "source": [
    "### 5. Conclusion and Future Work\n",
    "\n",
    "In this comparative analysis of machine learning models for diabetes prediction, the Deep Learning model emerged as the top performer in terms of accuracay, ROC AUC, precision, and specificity. It demonstrated superior performance in accurately distinguishing individuals with and without diabetes. The Random Forest model showed high recall, making it suitable choice for identifying positive cases. The Logistic Regression model had notable accuracy, ROC AUC, precision, and specificity, making it a runner-up.\n",
    "\n",
    "These findings highlight the potential of machine learning models in diabetes prediction. However, it is important to consider the specific requirements of the use case and the limitations of the dataset. Further research and model refinement are necessary to enhance the accuracy and robustness of diabetes prediction models.\n",
    "\n",
    "Furthermore, potential areas for improvement and future work are identified, including collecting more data, exploring alternative algorithms, addressing class imbalance using other methods, feature engineering, hyperparameter tuning, and external validation. These areas provide avenues for enhancing the models' performance and developing more robust predictive models for identifying individuals at risk for diabetes."
   ]
  }
 ],
 "metadata": {
  "kernelspec": {
   "display_name": "Python 3",
   "language": "python",
   "name": "python3"
  },
  "language_info": {
   "codemirror_mode": {
    "name": "ipython",
    "version": 3
   },
   "file_extension": ".py",
   "mimetype": "text/x-python",
   "name": "python",
   "nbconvert_exporter": "python",
   "pygments_lexer": "ipython3",
   "version": "3.11.2"
  },
  "orig_nbformat": 4
 },
 "nbformat": 4,
 "nbformat_minor": 2
}
